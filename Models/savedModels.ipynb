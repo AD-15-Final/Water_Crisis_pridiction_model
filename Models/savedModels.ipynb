{
 "cells": [
  {
   "cell_type": "code",
   "execution_count": null,
   "id": "77f9c01a",
   "metadata": {
    "vscode": {
     "languageId": "plaintext"
    }
   },
   "outputs": [],
   "source": [
    "from tensorflow.keras.models import load_model\n",
    "\n",
    "# --- Load the Saved Model ---\n",
    "loaded_model = load_model(\"chennai_bilstm_artifacts\\optimised_bilstm.keras\")\n",
    "print(\"Model loaded successfully.\")\n",
    "\n",
    "# --- Prepare input for prediction ---\n",
    "last_days_scaled = X_scaled[-time_step:]   # last 90 days (since time_step=90)\n",
    "prediction_input = last_days_scaled.reshape(1, time_step, X_df.shape[1])\n",
    "\n",
    "# --- Make Prediction ---\n",
    "final_pred_probs = loaded_model.predict(prediction_input)\n",
    "predicted_class = np.argmax(final_pred_probs, axis=1)[0]\n",
    "\n",
    "# --- Display the Prediction ---\n",
    "last_date_in_data = X_df.index[-1]\n",
    "prediction_date = last_date_in_data + pd.Timedelta(days=1)\n",
    "\n",
    "print(\"\\n\\n=====================================================\")\n",
    "print(f\"      OPTIMIZED PREDICTION FOR CHENNAI WATER CRISIS\")\n",
    "print(\"=====================================================\")\n",
    "print(f\"Based on data up to: {last_date_in_data.strftime('%Y-%m-%d')}\")\n",
    "print(f\"Predicted Crisis Level for {prediction_date.strftime('%Y-%m-%d')}: {predicted_class}\")\n",
    "print(\"=====================================================\")\n",
    "print(\"\\nCrisis Levels:\")\n",
    "print(\"0: No Crisis\")\n",
    "print(\"1: Moderate Crisis\")\n",
    "print(\"2: Severe Crisis\")\n",
    "print(\"3: Extreme Crisis\")\n"
   ]
  }
 ],
 "metadata": {
  "language_info": {
   "name": "python"
  }
 },
 "nbformat": 4,
 "nbformat_minor": 5
}
